{
 "metadata": {
  "celltoolbar": "Slideshow",
  "name": "",
  "signature": "sha256:f1a1f679ef5c13b8e167b6da30944f5ea4a380a1228ae79e5b052c1fcd97490b"
 },
 "nbformat": 3,
 "nbformat_minor": 0,
 "worksheets": [
  {
   "cells": [
    {
     "cell_type": "markdown",
     "metadata": {
      "slideshow": {
       "slide_type": "slide"
      }
     },
     "source": [
      "Digging into Abstract Syntax Trees for analyzing and modifying Python programs\n",
      "==="
     ]
    },
    {
     "cell_type": "markdown",
     "metadata": {
      "slideshow": {
       "slide_type": "slide"
      }
     },
     "source": [
      "Today we're going to write some Python programs that take other python programs as input\n",
      "==="
     ]
    },
    {
     "cell_type": "markdown",
     "metadata": {
      "slideshow": {
       "slide_type": "slide"
      }
     },
     "source": [
      "Examples of programs like this:\n",
      "==\n",
      "    - pyflakes\n",
      "    - macropy"
     ]
    },
    {
     "cell_type": "markdown",
     "metadata": {
      "slideshow": {
       "slide_type": "slide"
      }
     },
     "source": [
      "Pyflakes (https://pypi.python.org/pypi/pyflakes)\n",
      "===\n",
      "\n",
      "- Analyzes programs looking for common mistakes\n",
      "  - variables defined but never used\n",
      "  - variable redefinition in a different scope\n",
      "  - variable mispelling or referencing before definition"
     ]
    },
    {
     "cell_type": "markdown",
     "metadata": {
      "slideshow": {
       "slide_type": "slide"
      }
     },
     "source": [
      "Macropy (https://github.com/lihaoyi/macropy)\n",
      "===\n",
      "  - Allows for the runtime modification of modules at import time\n",
      "    - Enables Lisp like macros\n",
      "    - Can add statements between statements\n",
      "    - Can create entirely new semantic statements by modifying the Abstract Syntax Tree of your code."
     ]
    },
    {
     "cell_type": "markdown",
     "metadata": {
      "slideshow": {
       "slide_type": "slide"
      }
     },
     "source": [
      "What are Abstract Syntax Trees?\n",
      "===\n",
      "When you write your code you're describing a series of responses to input. \"If this, do that\", \"while true, do something\" Abstract Syntax Trees are a tree like structure that describe those decisions in a way that a computer can then translate them into smaller instructions."
     ]
    },
    {
     "cell_type": "markdown",
     "metadata": {
      "slideshow": {
       "slide_type": "slide"
      }
     },
     "source": [
      "An Example Program\n",
      "==="
     ]
    },
    {
     "cell_type": "code",
     "collapsed": false,
     "input": [
      "def gcd(a, b):\n",
      "    while b != 0:\n",
      "        if a > b:\n",
      "            a = a - b\n",
      "        else:\n",
      "            b = b - a\n",
      "    return a"
     ],
     "language": "python",
     "metadata": {
      "slideshow": {
       "slide_type": "subslide"
      }
     },
     "outputs": [],
     "prompt_number": 2
    },
    {
     "cell_type": "code",
     "collapsed": false,
     "input": [
      "from IPython.display import Image\n",
      "\n",
      "Image(\"http://upload.wikimedia.org/wikipedia/commons/thumb/c/c7/Abstract_syntax_tree_for_Euclidean_algorithm.svg/400px-Abstract_syntax_tree_for_Euclidean_algorithm.svg.png\")"
     ],
     "language": "python",
     "metadata": {
      "slideshow": {
       "slide_type": "subslide"
      }
     },
     "outputs": [
      {
       "metadata": {},
       "output_type": "pyout",
       "png": "[encoded data removed]",
       "prompt_number": 4,
       "text": [
        "<IPython.core.display.Image at 0x1063b0950>"
       ]
      }
     ],
     "prompt_number": 4
    },
    {
     "cell_type": "code",
     "collapsed": false,
     "input": [],
     "language": "python",
     "metadata": {},
     "outputs": []
    }
   ],
   "metadata": {}
  }
 ]
}